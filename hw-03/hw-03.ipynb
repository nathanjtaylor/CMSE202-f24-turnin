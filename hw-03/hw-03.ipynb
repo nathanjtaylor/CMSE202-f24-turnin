{
 "cells": [
  {
   "cell_type": "markdown",
   "metadata": {},
   "source": [
    "# Homework Assignment 3\n",
    "## Regression models"
   ]
  },
  {
   "cell_type": "markdown",
   "metadata": {},
   "source": [
    "### <p style=\"text-align: right;\"> &#9989; Nathan Taylor.</p>\n",
    "### <p style=\"text-align: right;\"> &#9989; nathanjtaylor</p>"
   ]
  },
  {
   "cell_type": "markdown",
   "metadata": {},
   "source": [
    "### Goal for this homework assignment\n",
    "By now, you have learned a bit about regression models. In this assignment, you will practice:\n",
    "\n",
    "* Using branches in Git\n",
    "* Performing linear regression\n",
    "* Performing multiple regression\n",
    "* Performing logistic regression\n",
    "\n",
    "**This assignment is due by 11:59 pm on Friday, November 15th.** It should be uploaded into the \"Homework Assignments\" submission folder for Homework 3.  Submission instructions can be found at the end of the notebook. **There are 72 standard points possible in this assignment. The distribution of points can be found in the section headers**.\n"
   ]
  },
  {
   "cell_type": "markdown",
   "metadata": {},
   "source": [
    "---\n",
    "## Part 1: Git Branch (6 points)\n",
    "\n",
    "\n",
    "For this assignment, you're going to add it to the `cmse202-f24-turnin` repository you created in class so that you can track your progress on the assignment and preserve the final version that you turn in. In order to do this you need to\n",
    "\n",
    "**&#9989; Do the following**:\n",
    "\n",
    "1. Navigate to your `cmse202-f24-turnin` **local** repository and create a new directory called `hw-03`\n",
    "\n",
    "2. Move this notebook into that **new directory** in your repository, but **do not** add or commit it to your repository yet.\n",
    "\n",
    "3. Create a **new branch** called `hw03_branch` (The Day 16 PCA and ICA content has information on how to do this).\n",
    "\n",
    "4. \"Check out\" the new branch (so that you'll be working on that branch). \n",
    "\n",
    "5. Double check to make sure you are actually on that branch.\n",
    "\n",
    "6. Once you're certain you're working on your new branch, add this notebook to your repository, then make a commit and push it to GitHub. You may need to use `git push origin hw03_branch` to push your new branch to GitHub.\n",
    "\n",
    "Finally, &#9989; **Do this**: Before you move on, put the command that your instructor should run to clone your repository in the markdown cell below."
   ]
  },
  {
   "cell_type": "markdown",
   "metadata": {},
   "source": [
    "git clone https://github.com/nathanjtaylor/CMSE202-f24-turnin.git"
   ]
  },
  {
   "cell_type": "markdown",
   "metadata": {},
   "source": [
    "**Important**: Double check you've added your Professor and your TA as collaborators to your \"turnin\" repository (you should have done this in the previous homework assignment).\n",
    "\n",
    "**Also important**: Make sure that the version of this notebook that you are working on is the same one that you just added to your repository! If you are working on a different copy of the notebook, **none of your changes will be tracked**!\n",
    "\n",
    "If everything went as intended, the file should now show up on your GitHub account in the \"`cmse202-f24-turnin`\" repository inside the `hw-03` directory that you just created within the new branch `hw03-branch`.\n",
    "\n",
    "Periodically, **you'll be asked to commit your changes to the repository and push them to the remote GitHub location**. Of course, you can always commit your changes more often than that, if you wish.  It can be good to get into a habit of committing your changes any time you make a significant modification, or when you stop working on the project for a bit.\n"
   ]
  },
  {
   "cell_type": "markdown",
   "metadata": {},
   "source": [
    "---\n",
    "## Part 2: Loading up on Portuguese Wine (13 points)\n",
    "\n",
    "\n",
    "For this homework, you’ll be working with the Wine Quality dataset from the UCI Machine Learning Repository, which contains measurements of various chemical properties of red and white wines. The dataset includes properties like fixed acidity, volatile acidity, citric acid, and other measurements important for understanding wine characteristics. This data was collected to support predictive models of wine quality, based on a range of measurable attributes. The wine dataset is distributed into two files: 1) for red wines and 2) for white wines. \n",
    "\n",
    "While Parts 3, 4, and 5 are structured so that they can be completed independently of each other, it is recommended to finish Part 2 before moving on to these sections. To get started on Part 2, you’ll need to download the following file:\n",
    "\n",
    "https://archive.ics.uci.edu/ml/machine-learning-databases/wine-quality/winequality-red.csv\n",
    "https://archive.ics.uci.edu/ml/machine-learning-databases/wine-quality/winequality-white.csv\n",
    "\n",
    "and a description of the files here:\n",
    "\n",
    "https://archive.ics.uci.edu/ml/machine-learning-databases/wine-quality/winequality.names\n",
    "\n",
    "✅ **Question 2.1 (1 point)**: Do this: Save the winequality-red.csv, winequality-white.csv,  file in the same directory as your notebook. Then, in the cell below, put the command line command(s) you used to download the file. If you did not use a command line tool to download the file, write down the command(s) that would have downloaded the file."
   ]
  },
  {
   "cell_type": "markdown",
   "metadata": {},
   "source": [
    "``` bash\n",
    "# Put the command you used to download the wine dataests file here.\n",
    "```"
   ]
  },
  {
   "cell_type": "markdown",
   "metadata": {},
   "source": [
    "**Answer.**\n",
    "```bash\n",
    "curl https://archive.ics.uci.edu/ml/machine-learning-databases/wine-quality/winequality-red.csv -O\n",
    "curl https://archive.ics.uci.edu/ml/machine-learning-databases/wine-quality/winequality-white.csv -O\n",
    "curl https://archive.ics.uci.edu/ml/machine-learning-databases/wine-quality/winequality.names -O\n",
    "```"
   ]
  },
  {
   "cell_type": "markdown",
   "metadata": {},
   "source": [
    "&#9989;  **Question 2.2 (4 points)**: Next, load the data of red and white wine into two separate Pandas DataFrames and display the first and last 5 rows. "
   ]
  },
  {
   "cell_type": "code",
   "execution_count": 30,
   "metadata": {},
   "outputs": [],
   "source": [
    "import pandas as pd\n",
    "import numpy as np\n",
    "import matplotlib.pyplot as plt\n",
    "import seaborn as sns\n",
    "import statsmodels.api as sm\n",
    "from sklearn.model_selection import train_test_split\n",
    "from sklearn.metrics import accuracy_score"
   ]
  },
  {
   "cell_type": "code",
   "execution_count": 2,
   "metadata": {},
   "outputs": [
    {
     "name": "stdout",
     "output_type": "stream",
     "text": [
      "RED\n"
     ]
    },
    {
     "data": {
      "text/html": [
       "<div>\n",
       "<style scoped>\n",
       "    .dataframe tbody tr th:only-of-type {\n",
       "        vertical-align: middle;\n",
       "    }\n",
       "\n",
       "    .dataframe tbody tr th {\n",
       "        vertical-align: top;\n",
       "    }\n",
       "\n",
       "    .dataframe thead th {\n",
       "        text-align: right;\n",
       "    }\n",
       "</style>\n",
       "<table border=\"1\" class=\"dataframe\">\n",
       "  <thead>\n",
       "    <tr style=\"text-align: right;\">\n",
       "      <th></th>\n",
       "      <th>fixed acidity</th>\n",
       "      <th>volatile acidity</th>\n",
       "      <th>citric acid</th>\n",
       "      <th>residual sugar</th>\n",
       "      <th>chlorides</th>\n",
       "      <th>free sulfur dioxide</th>\n",
       "      <th>total sulfur dioxide</th>\n",
       "      <th>density</th>\n",
       "      <th>pH</th>\n",
       "      <th>sulphates</th>\n",
       "      <th>alcohol</th>\n",
       "      <th>quality</th>\n",
       "    </tr>\n",
       "  </thead>\n",
       "  <tbody>\n",
       "    <tr>\n",
       "      <th>0</th>\n",
       "      <td>7.4</td>\n",
       "      <td>0.70</td>\n",
       "      <td>0.00</td>\n",
       "      <td>1.9</td>\n",
       "      <td>0.076</td>\n",
       "      <td>11.0</td>\n",
       "      <td>34.0</td>\n",
       "      <td>0.9978</td>\n",
       "      <td>3.51</td>\n",
       "      <td>0.56</td>\n",
       "      <td>9.4</td>\n",
       "      <td>5</td>\n",
       "    </tr>\n",
       "    <tr>\n",
       "      <th>1</th>\n",
       "      <td>7.8</td>\n",
       "      <td>0.88</td>\n",
       "      <td>0.00</td>\n",
       "      <td>2.6</td>\n",
       "      <td>0.098</td>\n",
       "      <td>25.0</td>\n",
       "      <td>67.0</td>\n",
       "      <td>0.9968</td>\n",
       "      <td>3.20</td>\n",
       "      <td>0.68</td>\n",
       "      <td>9.8</td>\n",
       "      <td>5</td>\n",
       "    </tr>\n",
       "    <tr>\n",
       "      <th>2</th>\n",
       "      <td>7.8</td>\n",
       "      <td>0.76</td>\n",
       "      <td>0.04</td>\n",
       "      <td>2.3</td>\n",
       "      <td>0.092</td>\n",
       "      <td>15.0</td>\n",
       "      <td>54.0</td>\n",
       "      <td>0.9970</td>\n",
       "      <td>3.26</td>\n",
       "      <td>0.65</td>\n",
       "      <td>9.8</td>\n",
       "      <td>5</td>\n",
       "    </tr>\n",
       "    <tr>\n",
       "      <th>3</th>\n",
       "      <td>11.2</td>\n",
       "      <td>0.28</td>\n",
       "      <td>0.56</td>\n",
       "      <td>1.9</td>\n",
       "      <td>0.075</td>\n",
       "      <td>17.0</td>\n",
       "      <td>60.0</td>\n",
       "      <td>0.9980</td>\n",
       "      <td>3.16</td>\n",
       "      <td>0.58</td>\n",
       "      <td>9.8</td>\n",
       "      <td>6</td>\n",
       "    </tr>\n",
       "    <tr>\n",
       "      <th>4</th>\n",
       "      <td>7.4</td>\n",
       "      <td>0.70</td>\n",
       "      <td>0.00</td>\n",
       "      <td>1.9</td>\n",
       "      <td>0.076</td>\n",
       "      <td>11.0</td>\n",
       "      <td>34.0</td>\n",
       "      <td>0.9978</td>\n",
       "      <td>3.51</td>\n",
       "      <td>0.56</td>\n",
       "      <td>9.4</td>\n",
       "      <td>5</td>\n",
       "    </tr>\n",
       "  </tbody>\n",
       "</table>\n",
       "</div>"
      ],
      "text/plain": [
       "   fixed acidity  volatile acidity  citric acid  residual sugar  chlorides  \\\n",
       "0            7.4              0.70         0.00             1.9      0.076   \n",
       "1            7.8              0.88         0.00             2.6      0.098   \n",
       "2            7.8              0.76         0.04             2.3      0.092   \n",
       "3           11.2              0.28         0.56             1.9      0.075   \n",
       "4            7.4              0.70         0.00             1.9      0.076   \n",
       "\n",
       "   free sulfur dioxide  total sulfur dioxide  density    pH  sulphates  \\\n",
       "0                 11.0                  34.0   0.9978  3.51       0.56   \n",
       "1                 25.0                  67.0   0.9968  3.20       0.68   \n",
       "2                 15.0                  54.0   0.9970  3.26       0.65   \n",
       "3                 17.0                  60.0   0.9980  3.16       0.58   \n",
       "4                 11.0                  34.0   0.9978  3.51       0.56   \n",
       "\n",
       "   alcohol  quality  \n",
       "0      9.4        5  \n",
       "1      9.8        5  \n",
       "2      9.8        5  \n",
       "3      9.8        6  \n",
       "4      9.4        5  "
      ]
     },
     "execution_count": 2,
     "metadata": {},
     "output_type": "execute_result"
    }
   ],
   "source": [
    "# Put your code here\n",
    "red = pd.read_csv(\"winequality-red.csv\", delimiter=';')\n",
    "white = pd.read_csv(\"winequality-white.csv\", delimiter=';')\n",
    "\n",
    "print(\"RED\")\n",
    "red.head(5)"
   ]
  },
  {
   "cell_type": "code",
   "execution_count": 3,
   "metadata": {},
   "outputs": [
    {
     "name": "stdout",
     "output_type": "stream",
     "text": [
      "WHITE\n"
     ]
    },
    {
     "data": {
      "text/html": [
       "<div>\n",
       "<style scoped>\n",
       "    .dataframe tbody tr th:only-of-type {\n",
       "        vertical-align: middle;\n",
       "    }\n",
       "\n",
       "    .dataframe tbody tr th {\n",
       "        vertical-align: top;\n",
       "    }\n",
       "\n",
       "    .dataframe thead th {\n",
       "        text-align: right;\n",
       "    }\n",
       "</style>\n",
       "<table border=\"1\" class=\"dataframe\">\n",
       "  <thead>\n",
       "    <tr style=\"text-align: right;\">\n",
       "      <th></th>\n",
       "      <th>fixed acidity</th>\n",
       "      <th>volatile acidity</th>\n",
       "      <th>citric acid</th>\n",
       "      <th>residual sugar</th>\n",
       "      <th>chlorides</th>\n",
       "      <th>free sulfur dioxide</th>\n",
       "      <th>total sulfur dioxide</th>\n",
       "      <th>density</th>\n",
       "      <th>pH</th>\n",
       "      <th>sulphates</th>\n",
       "      <th>alcohol</th>\n",
       "      <th>quality</th>\n",
       "    </tr>\n",
       "  </thead>\n",
       "  <tbody>\n",
       "    <tr>\n",
       "      <th>0</th>\n",
       "      <td>7.0</td>\n",
       "      <td>0.27</td>\n",
       "      <td>0.36</td>\n",
       "      <td>20.7</td>\n",
       "      <td>0.045</td>\n",
       "      <td>45.0</td>\n",
       "      <td>170.0</td>\n",
       "      <td>1.0010</td>\n",
       "      <td>3.00</td>\n",
       "      <td>0.45</td>\n",
       "      <td>8.8</td>\n",
       "      <td>6</td>\n",
       "    </tr>\n",
       "    <tr>\n",
       "      <th>1</th>\n",
       "      <td>6.3</td>\n",
       "      <td>0.30</td>\n",
       "      <td>0.34</td>\n",
       "      <td>1.6</td>\n",
       "      <td>0.049</td>\n",
       "      <td>14.0</td>\n",
       "      <td>132.0</td>\n",
       "      <td>0.9940</td>\n",
       "      <td>3.30</td>\n",
       "      <td>0.49</td>\n",
       "      <td>9.5</td>\n",
       "      <td>6</td>\n",
       "    </tr>\n",
       "    <tr>\n",
       "      <th>2</th>\n",
       "      <td>8.1</td>\n",
       "      <td>0.28</td>\n",
       "      <td>0.40</td>\n",
       "      <td>6.9</td>\n",
       "      <td>0.050</td>\n",
       "      <td>30.0</td>\n",
       "      <td>97.0</td>\n",
       "      <td>0.9951</td>\n",
       "      <td>3.26</td>\n",
       "      <td>0.44</td>\n",
       "      <td>10.1</td>\n",
       "      <td>6</td>\n",
       "    </tr>\n",
       "    <tr>\n",
       "      <th>3</th>\n",
       "      <td>7.2</td>\n",
       "      <td>0.23</td>\n",
       "      <td>0.32</td>\n",
       "      <td>8.5</td>\n",
       "      <td>0.058</td>\n",
       "      <td>47.0</td>\n",
       "      <td>186.0</td>\n",
       "      <td>0.9956</td>\n",
       "      <td>3.19</td>\n",
       "      <td>0.40</td>\n",
       "      <td>9.9</td>\n",
       "      <td>6</td>\n",
       "    </tr>\n",
       "    <tr>\n",
       "      <th>4</th>\n",
       "      <td>7.2</td>\n",
       "      <td>0.23</td>\n",
       "      <td>0.32</td>\n",
       "      <td>8.5</td>\n",
       "      <td>0.058</td>\n",
       "      <td>47.0</td>\n",
       "      <td>186.0</td>\n",
       "      <td>0.9956</td>\n",
       "      <td>3.19</td>\n",
       "      <td>0.40</td>\n",
       "      <td>9.9</td>\n",
       "      <td>6</td>\n",
       "    </tr>\n",
       "  </tbody>\n",
       "</table>\n",
       "</div>"
      ],
      "text/plain": [
       "   fixed acidity  volatile acidity  citric acid  residual sugar  chlorides  \\\n",
       "0            7.0              0.27         0.36            20.7      0.045   \n",
       "1            6.3              0.30         0.34             1.6      0.049   \n",
       "2            8.1              0.28         0.40             6.9      0.050   \n",
       "3            7.2              0.23         0.32             8.5      0.058   \n",
       "4            7.2              0.23         0.32             8.5      0.058   \n",
       "\n",
       "   free sulfur dioxide  total sulfur dioxide  density    pH  sulphates  \\\n",
       "0                 45.0                 170.0   1.0010  3.00       0.45   \n",
       "1                 14.0                 132.0   0.9940  3.30       0.49   \n",
       "2                 30.0                  97.0   0.9951  3.26       0.44   \n",
       "3                 47.0                 186.0   0.9956  3.19       0.40   \n",
       "4                 47.0                 186.0   0.9956  3.19       0.40   \n",
       "\n",
       "   alcohol  quality  \n",
       "0      8.8        6  \n",
       "1      9.5        6  \n",
       "2     10.1        6  \n",
       "3      9.9        6  \n",
       "4      9.9        6  "
      ]
     },
     "execution_count": 3,
     "metadata": {},
     "output_type": "execute_result"
    }
   ],
   "source": [
    "print(\"WHITE\")\n",
    "white.head(5)"
   ]
  },
  {
   "cell_type": "markdown",
   "metadata": {},
   "source": [
    "&#9989;  **Question 2.3 (4 points)**: Let’s investigate which features of red wines are correlated by plotting a correlation heatmap using Seaborn. Create a heatmap to visualize the relationships between various chemical properties of red wine.\n",
    "\n",
    "Remember to rotate the tick labels so they are easy to read, and use tight_layout() to avoid any label cut-offs."
   ]
  },
  {
   "cell_type": "code",
   "execution_count": 4,
   "metadata": {},
   "outputs": [
    {
     "data": {
      "text/plain": [
       "Text(0.5, 1.0, 'Red Wine')"
      ]
     },
     "execution_count": 4,
     "metadata": {},
     "output_type": "execute_result"
    },
    {
     "data": {
      "image/png": "[encoded data removed]",
      "text/plain": [
       "<Figure size 640x480 with 2 Axes>"
      ]
     },
     "metadata": {},
     "output_type": "display_data"
    }
   ],
   "source": [
    "# Put your code here\n",
    "heatmap = sns.heatmap(red.corr(), cmap=\"flare\")\n",
    "heatmap.set_xticklabels(heatmap.get_xticklabels(), rotation=75)\n",
    "plt.title(\"Red Wine\")"
   ]
  },
  {
   "cell_type": "markdown",
   "metadata": {},
   "source": [
    "&#9989;  **Question 2.4 (4 points)**: Let’s investigate which features of white wines now are correlated by plotting a correlation heatmap using Seaborn. Create a heatmap to visualize the relationships between various chemical properties of red wine.\n",
    "\n",
    "Remember to rotate the tick labels so they are easy to read, and use tight_layout() to avoid any label cut-offs.\n",
    "Which features are different between red and white?"
   ]
  },
  {
   "cell_type": "code",
   "execution_count": 5,
   "metadata": {},
   "outputs": [
    {
     "data": {
      "text/plain": [
       "Text(0.5, 1.0, 'White Wine')"
      ]
     },
     "execution_count": 5,
     "metadata": {},
     "output_type": "execute_result"
    },
    {
     "data": {
      "image/png": "[encoded data removed]",
      "text/plain": [
       "<Figure size 640x480 with 2 Axes>"
      ]
     },
     "metadata": {},
     "output_type": "display_data"
    }
   ],
   "source": [
    "# Put your code here\n",
    "heatmap = sns.heatmap(white.corr(), cmap=\"crest\")\n",
    "heatmap.set_xticklabels(heatmap.get_xticklabels(), rotation=75)\n",
    "plt.title(\"White Wine\")"
   ]
  },
  {
   "cell_type": "markdown",
   "metadata": {},
   "source": [
    "---\n",
    "### &#128721; STOP\n",
    "**Pause to commit your changes to your Git repository!**\n",
    "\n",
    "Take a moment to save your notebook, commit the changes to your local `git` repository using the commit message \"Part 2 complete\", and push the changes to GitHub.\n",
    "\n",
    "---"
   ]
  },
  {
   "cell_type": "markdown",
   "metadata": {},
   "source": [
    "---\n",
    "## Part 3: One Variable Linear Regression (21 points)\n",
    "\n",
    "In exploring the characteristics of wine, understanding the relationship between individual chemical components can provide insights into the wine’s flavor profile, quality, and potential fermentation properties. One simple yet valuable analysis is examining the relationship between citric acid and fixed acidity.\n",
    "\n",
    "Citric acid, a natural preservative that adds freshness, often contributes to the tartness and overall acidity in wine. Meanwhile, fixed acidity is a broader measure that includes acids, such as tartaric and malic acid, giving wine its sharp, crisp taste. By performing a single-variable linear regression with citric acid as the predictor for fixed acidity, we can investigate whether higher levels of citric acid are associated with an increase in fixed acidity, potentially indicating a specific acid balance characteristic to certain wine types.\n",
    "\n",
    "This regression analysis can reveal subtle patterns in acidity management, helping winemakers predict and control acidity levels for quality consistency, and giving scientists insight into how specific acid types interact in the broader context of wine chemistry.\n",
    "\n",
    "&#9989;  **Question 3.1 (3 points)**: Using the OLS method in `statsmodels`, perform a linear regression to predict the fixed acidity of a wine sample using its citric acid content and display the results summary. Remember that you may need to use the add_constant() method to ensure OLS fits a general line  y = ax + b  to the data rather than a line through the origin  y = ax .\n",
    "\n",
    "For this problem, make sure that you’re using the entire wine dataset, not just a subset of the data. So the first part should be to make a combined dataframe (using `pd.concat`) out of white and red"
   ]
  },
  {
   "cell_type": "code",
   "execution_count": 6,
   "metadata": {},
   "outputs": [],
   "source": [
    "red_copy = red\n",
    "white_copy = white"
   ]
  },
  {
   "cell_type": "code",
   "execution_count": 7,
   "metadata": {},
   "outputs": [
    {
     "data": {
      "text/plain": [
       "const            0.056240\n",
       "fixed acidity    0.036366\n",
       "dtype: float64"
      ]
     },
     "execution_count": 7,
     "metadata": {},
     "output_type": "execute_result"
    }
   ],
   "source": [
    "wine = pd.concat([red_copy, white_copy])  # combine datasets\n",
    "\n",
    "x = wine[\"fixed acidity\"]\n",
    "y = wine[\"citric acid\"]\n",
    "x_with_cnst = sm.add_constant(x)\n",
    "model = sm.OLS(y, x_with_cnst)\n",
    "results = model.fit()\n",
    "\n",
    "results.params"
   ]
  },
  {
   "cell_type": "code",
   "execution_count": 8,
   "metadata": {},
   "outputs": [
    {
     "data": {
      "text/html": [
       "<table class=\"simpletable\">\n",
       "<caption>OLS Regression Results</caption>\n",
       "<tr>\n",
       "  <th>Dep. Variable:</th>       <td>citric acid</td>   <th>  R-squared:         </th> <td>   0.105</td> \n",
       "</tr>\n",
       "<tr>\n",
       "  <th>Model:</th>                   <td>OLS</td>       <th>  Adj. R-squared:    </th> <td>   0.105</td> \n",
       "</tr>\n",
       "<tr>\n",
       "  <th>Method:</th>             <td>Least Squares</td>  <th>  F-statistic:       </th> <td>   764.1</td> \n",
       "</tr>\n",
       "<tr>\n",
       "  <th>Date:</th>             <td>Wed, 13 Nov 2024</td> <th>  Prob (F-statistic):</th> <td>4.19e-159</td>\n",
       "</tr>\n",
       "<tr>\n",
       "  <th>Time:</th>                 <td>11:32:51</td>     <th>  Log-Likelihood:    </th> <td>  3674.6</td> \n",
       "</tr>\n",
       "<tr>\n",
       "  <th>No. Observations:</th>      <td>  6497</td>      <th>  AIC:               </th> <td>  -7345.</td> \n",
       "</tr>\n",
       "<tr>\n",
       "  <th>Df Residuals:</th>          <td>  6495</td>      <th>  BIC:               </th> <td>  -7332.</td> \n",
       "</tr>\n",
       "<tr>\n",
       "  <th>Df Model:</th>              <td>     1</td>      <th>                     </th>     <td> </td>    \n",
       "</tr>\n",
       "<tr>\n",
       "  <th>Covariance Type:</th>      <td>nonrobust</td>    <th>                     </th>     <td> </td>    \n",
       "</tr>\n",
       "</table>\n",
       "<table class=\"simpletable\">\n",
       "<tr>\n",
       "        <td></td>           <th>coef</th>     <th>std err</th>      <th>t</th>      <th>P>|t|</th>  <th>[0.025</th>    <th>0.975]</th>  \n",
       "</tr>\n",
       "<tr>\n",
       "  <th>const</th>         <td>    0.0562</td> <td>    0.010</td> <td>    5.831</td> <td> 0.000</td> <td>    0.037</td> <td>    0.075</td>\n",
       "</tr>\n",
       "<tr>\n",
       "  <th>fixed acidity</th> <td>    0.0364</td> <td>    0.001</td> <td>   27.642</td> <td> 0.000</td> <td>    0.034</td> <td>    0.039</td>\n",
       "</tr>\n",
       "</table>\n",
       "<table class=\"simpletable\">\n",
       "<tr>\n",
       "  <th>Omnibus:</th>       <td>642.167</td> <th>  Durbin-Watson:     </th> <td>   1.284</td>\n",
       "</tr>\n",
       "<tr>\n",
       "  <th>Prob(Omnibus):</th> <td> 0.000</td>  <th>  Jarque-Bera (JB):  </th> <td>2742.737</td>\n",
       "</tr>\n",
       "<tr>\n",
       "  <th>Skew:</th>          <td> 0.410</td>  <th>  Prob(JB):          </th> <td>    0.00</td>\n",
       "</tr>\n",
       "<tr>\n",
       "  <th>Kurtosis:</th>      <td> 6.076</td>  <th>  Cond. No.          </th> <td>    42.2</td>\n",
       "</tr>\n",
       "</table><br/><br/>Notes:<br/>[1] Standard Errors assume that the covariance matrix of the errors is correctly specified."
      ],
      "text/latex": [
       "\\begin{center}\n",
       "\\begin{tabular}{lclc}\n",
       "\\toprule\n",
       "\\textbf{Dep. Variable:}    &   citric acid    & \\textbf{  R-squared:         } &     0.105   \\\\\n",
       "\\textbf{Model:}            &       OLS        & \\textbf{  Adj. R-squared:    } &     0.105   \\\\\n",
       "\\textbf{Method:}           &  Least Squares   & \\textbf{  F-statistic:       } &     764.1   \\\\\n",
       "\\textbf{Date:}             & Wed, 13 Nov 2024 & \\textbf{  Prob (F-statistic):} & 4.19e-159   \\\\\n",
       "\\textbf{Time:}             &     11:32:51     & \\textbf{  Log-Likelihood:    } &    3674.6   \\\\\n",
       "\\textbf{No. Observations:} &        6497      & \\textbf{  AIC:               } &    -7345.   \\\\\n",
       "\\textbf{Df Residuals:}     &        6495      & \\textbf{  BIC:               } &    -7332.   \\\\\n",
       "\\textbf{Df Model:}         &           1      & \\textbf{                     } &             \\\\\n",
       "\\textbf{Covariance Type:}  &    nonrobust     & \\textbf{                     } &             \\\\\n",
       "\\bottomrule\n",
       "\\end{tabular}\n",
       "\\begin{tabular}{lcccccc}\n",
       "                       & \\textbf{coef} & \\textbf{std err} & \\textbf{t} & \\textbf{P$> |$t$|$} & \\textbf{[0.025} & \\textbf{0.975]}  \\\\\n",
       "\\midrule\n",
       "\\textbf{const}         &       0.0562  &        0.010     &     5.831  &         0.000        &        0.037    &        0.075     \\\\\n",
       "\\textbf{fixed acidity} &       0.0364  &        0.001     &    27.642  &         0.000        &        0.034    &        0.039     \\\\\n",
       "\\bottomrule\n",
       "\\end{tabular}\n",
       "\\begin{tabular}{lclc}\n",
       "\\textbf{Omnibus:}       & 642.167 & \\textbf{  Durbin-Watson:     } &    1.284  \\\\\n",
       "\\textbf{Prob(Omnibus):} &   0.000 & \\textbf{  Jarque-Bera (JB):  } & 2742.737  \\\\\n",
       "\\textbf{Skew:}          &   0.410 & \\textbf{  Prob(JB):          } &     0.00  \\\\\n",
       "\\textbf{Kurtosis:}      &   6.076 & \\textbf{  Cond. No.          } &     42.2  \\\\\n",
       "\\bottomrule\n",
       "\\end{tabular}\n",
       "%\\caption{OLS Regression Results}\n",
       "\\end{center}\n",
       "\n",
       "Notes: \\newline\n",
       " [1] Standard Errors assume that the covariance matrix of the errors is correctly specified."
      ],
      "text/plain": [
       "<class 'statsmodels.iolib.summary.Summary'>\n",
       "\"\"\"\n",
       "                            OLS Regression Results                            \n",
       "==============================================================================\n",
       "Dep. Variable:            citric acid   R-squared:                       0.105\n",
       "Model:                            OLS   Adj. R-squared:                  0.105\n",
       "Method:                 Least Squares   F-statistic:                     764.1\n",
       "Date:                Wed, 13 Nov 2024   Prob (F-statistic):          4.19e-159\n",
       "Time:                        11:32:51   Log-Likelihood:                 3674.6\n",
       "No. Observations:                6497   AIC:                            -7345.\n",
       "Df Residuals:                    6495   BIC:                            -7332.\n",
       "Df Model:                           1                                         \n",
       "Covariance Type:            nonrobust                                         \n",
       "=================================================================================\n",
       "                    coef    std err          t      P>|t|      [0.025      0.975]\n",
       "---------------------------------------------------------------------------------\n",
       "const             0.0562      0.010      5.831      0.000       0.037       0.075\n",
       "fixed acidity     0.0364      0.001     27.642      0.000       0.034       0.039\n",
       "==============================================================================\n",
       "Omnibus:                      642.167   Durbin-Watson:                   1.284\n",
       "Prob(Omnibus):                  0.000   Jarque-Bera (JB):             2742.737\n",
       "Skew:                           0.410   Prob(JB):                         0.00\n",
       "Kurtosis:                       6.076   Cond. No.                         42.2\n",
       "==============================================================================\n",
       "\n",
       "Notes:\n",
       "[1] Standard Errors assume that the covariance matrix of the errors is correctly specified.\n",
       "\"\"\""
      ]
     },
     "execution_count": 8,
     "metadata": {},
     "output_type": "execute_result"
    }
   ],
   "source": [
    "results.summary()"
   ]
  },
  {
   "cell_type": "markdown",
   "metadata": {},
   "source": [
    "&#9989;  **Question 3.2 (3 points)**: Answer the following questions: \n",
    "\n",
    "1.\tWhat was the equation of the best-fit linear relationship between a red wine’s fixed acidity and its citric acid content?\n",
    "2.\tAs a red wine’s citric acid content increases, does its fixed acidity increase or decrease? What aspect of the regression output tells you this?\n",
    "3.\tBased on the  p -value for citric acid, is the relationship you found between a wine’s fixed acidity and citric acid content statistically significant? Justify your answer."
   ]
  },
  {
   "cell_type": "markdown",
   "metadata": {},
   "source": [
    "**Answer.** \n",
    "* y = 0.036366x + 0.056240\n",
    "* Yes, as citric acid content increases, fixed acidity increases a little bit, we know this from the *slope* of the equation of best fit\n",
    "* Because the p value is 0, which is less than 0.05 this correlation is generally considered statistically significant "
   ]
  },
  {
   "cell_type": "markdown",
   "metadata": {},
   "source": [
    "&#9989; **Question 3.3 (4 points, 2 points per part)**: Now, let's perform linear regression separately for red and white wine. To avoid confusion and ensure that results are not overwritten, make sure that the variable names for the OLS models and results are different for each wine type.\n",
    "\n",
    "&#9989; **Question 3.3.Red (2 points)**: Using the `OLS` method in `statsmodels`, perform a linear regression to predict the **fixed acidity** of red wine samples using **citric acid** as the predictor, and display the results summary.\n",
    "\n"
   ]
  },
  {
   "cell_type": "code",
   "execution_count": 9,
   "metadata": {},
   "outputs": [
    {
     "name": "stdout",
     "output_type": "stream",
     "text": [
      "Red Wine\n"
     ]
    },
    {
     "data": {
      "text/html": [
       "<table class=\"simpletable\">\n",
       "<caption>OLS Regression Results</caption>\n",
       "<tr>\n",
       "  <th>Dep. Variable:</th>       <td>citric acid</td>   <th>  R-squared:         </th> <td>   0.451</td> \n",
       "</tr>\n",
       "<tr>\n",
       "  <th>Model:</th>                   <td>OLS</td>       <th>  Adj. R-squared:    </th> <td>   0.451</td> \n",
       "</tr>\n",
       "<tr>\n",
       "  <th>Method:</th>             <td>Least Squares</td>  <th>  F-statistic:       </th> <td>   1313.</td> \n",
       "</tr>\n",
       "<tr>\n",
       "  <th>Date:</th>             <td>Wed, 13 Nov 2024</td> <th>  Prob (F-statistic):</th> <td>2.54e-210</td>\n",
       "</tr>\n",
       "<tr>\n",
       "  <th>Time:</th>                 <td>11:32:51</td>     <th>  Log-Likelihood:    </th> <td>  826.92</td> \n",
       "</tr>\n",
       "<tr>\n",
       "  <th>No. Observations:</th>      <td>  1599</td>      <th>  AIC:               </th> <td>  -1650.</td> \n",
       "</tr>\n",
       "<tr>\n",
       "  <th>Df Residuals:</th>          <td>  1597</td>      <th>  BIC:               </th> <td>  -1639.</td> \n",
       "</tr>\n",
       "<tr>\n",
       "  <th>Df Model:</th>              <td>     1</td>      <th>                     </th>     <td> </td>    \n",
       "</tr>\n",
       "<tr>\n",
       "  <th>Covariance Type:</th>      <td>nonrobust</td>    <th>                     </th>     <td> </td>    \n",
       "</tr>\n",
       "</table>\n",
       "<table class=\"simpletable\">\n",
       "<tr>\n",
       "        <td></td>           <th>coef</th>     <th>std err</th>      <th>t</th>      <th>P>|t|</th>  <th>[0.025</th>    <th>0.975]</th>  \n",
       "</tr>\n",
       "<tr>\n",
       "  <th>const</th>         <td>   -0.3543</td> <td>    0.018</td> <td>  -20.095</td> <td> 0.000</td> <td>   -0.389</td> <td>   -0.320</td>\n",
       "</tr>\n",
       "<tr>\n",
       "  <th>fixed acidity</th> <td>    0.0752</td> <td>    0.002</td> <td>   36.234</td> <td> 0.000</td> <td>    0.071</td> <td>    0.079</td>\n",
       "</tr>\n",
       "</table>\n",
       "<table class=\"simpletable\">\n",
       "<tr>\n",
       "  <th>Omnibus:</th>       <td>82.195</td> <th>  Durbin-Watson:     </th> <td>   1.506</td>\n",
       "</tr>\n",
       "<tr>\n",
       "  <th>Prob(Omnibus):</th> <td> 0.000</td> <th>  Jarque-Bera (JB):  </th> <td> 100.566</td>\n",
       "</tr>\n",
       "<tr>\n",
       "  <th>Skew:</th>          <td> 0.519</td> <th>  Prob(JB):          </th> <td>1.45e-22</td>\n",
       "</tr>\n",
       "<tr>\n",
       "  <th>Kurtosis:</th>      <td> 3.658</td> <th>  Cond. No.          </th> <td>    42.1</td>\n",
       "</tr>\n",
       "</table><br/><br/>Notes:<br/>[1] Standard Errors assume that the covariance matrix of the errors is correctly specified."
      ],
      "text/latex": [
       "\\begin{center}\n",
       "\\begin{tabular}{lclc}\n",
       "\\toprule\n",
       "\\textbf{Dep. Variable:}    &   citric acid    & \\textbf{  R-squared:         } &     0.451   \\\\\n",
       "\\textbf{Model:}            &       OLS        & \\textbf{  Adj. R-squared:    } &     0.451   \\\\\n",
       "\\textbf{Method:}           &  Least Squares   & \\textbf{  F-statistic:       } &     1313.   \\\\\n",
       "\\textbf{Date:}             & Wed, 13 Nov 2024 & \\textbf{  Prob (F-statistic):} & 2.54e-210   \\\\\n",
       "\\textbf{Time:}             &     11:32:51     & \\textbf{  Log-Likelihood:    } &    826.92   \\\\\n",
       "\\textbf{No. Observations:} &        1599      & \\textbf{  AIC:               } &    -1650.   \\\\\n",
       "\\textbf{Df Residuals:}     &        1597      & \\textbf{  BIC:               } &    -1639.   \\\\\n",
       "\\textbf{Df Model:}         &           1      & \\textbf{                     } &             \\\\\n",
       "\\textbf{Covariance Type:}  &    nonrobust     & \\textbf{                     } &             \\\\\n",
       "\\bottomrule\n",
       "\\end{tabular}\n",
       "\\begin{tabular}{lcccccc}\n",
       "                       & \\textbf{coef} & \\textbf{std err} & \\textbf{t} & \\textbf{P$> |$t$|$} & \\textbf{[0.025} & \\textbf{0.975]}  \\\\\n",
       "\\midrule\n",
       "\\textbf{const}         &      -0.3543  &        0.018     &   -20.095  &         0.000        &       -0.389    &       -0.320     \\\\\n",
       "\\textbf{fixed acidity} &       0.0752  &        0.002     &    36.234  &         0.000        &        0.071    &        0.079     \\\\\n",
       "\\bottomrule\n",
       "\\end{tabular}\n",
       "\\begin{tabular}{lclc}\n",
       "\\textbf{Omnibus:}       & 82.195 & \\textbf{  Durbin-Watson:     } &    1.506  \\\\\n",
       "\\textbf{Prob(Omnibus):} &  0.000 & \\textbf{  Jarque-Bera (JB):  } &  100.566  \\\\\n",
       "\\textbf{Skew:}          &  0.519 & \\textbf{  Prob(JB):          } & 1.45e-22  \\\\\n",
       "\\textbf{Kurtosis:}      &  3.658 & \\textbf{  Cond. No.          } &     42.1  \\\\\n",
       "\\bottomrule\n",
       "\\end{tabular}\n",
       "%\\caption{OLS Regression Results}\n",
       "\\end{center}\n",
       "\n",
       "Notes: \\newline\n",
       " [1] Standard Errors assume that the covariance matrix of the errors is correctly specified."
      ],
      "text/plain": [
       "<class 'statsmodels.iolib.summary.Summary'>\n",
       "\"\"\"\n",
       "                            OLS Regression Results                            \n",
       "==============================================================================\n",
       "Dep. Variable:            citric acid   R-squared:                       0.451\n",
       "Model:                            OLS   Adj. R-squared:                  0.451\n",
       "Method:                 Least Squares   F-statistic:                     1313.\n",
       "Date:                Wed, 13 Nov 2024   Prob (F-statistic):          2.54e-210\n",
       "Time:                        11:32:51   Log-Likelihood:                 826.92\n",
       "No. Observations:                1599   AIC:                            -1650.\n",
       "Df Residuals:                    1597   BIC:                            -1639.\n",
       "Df Model:                           1                                         \n",
       "Covariance Type:            nonrobust                                         \n",
       "=================================================================================\n",
       "                    coef    std err          t      P>|t|      [0.025      0.975]\n",
       "---------------------------------------------------------------------------------\n",
       "const            -0.3543      0.018    -20.095      0.000      -0.389      -0.320\n",
       "fixed acidity     0.0752      0.002     36.234      0.000       0.071       0.079\n",
       "==============================================================================\n",
       "Omnibus:                       82.195   Durbin-Watson:                   1.506\n",
       "Prob(Omnibus):                  0.000   Jarque-Bera (JB):              100.566\n",
       "Skew:                           0.519   Prob(JB):                     1.45e-22\n",
       "Kurtosis:                       3.658   Cond. No.                         42.1\n",
       "==============================================================================\n",
       "\n",
       "Notes:\n",
       "[1] Standard Errors assume that the covariance matrix of the errors is correctly specified.\n",
       "\"\"\""
      ]
     },
     "execution_count": 9,
     "metadata": {},
     "output_type": "execute_result"
    }
   ],
   "source": [
    "red_x = red[\"fixed acidity\"]\n",
    "red_y = red[\"citric acid\"]\n",
    "red_x_with_cnst = sm.add_constant(red_x)\n",
    "red_model = sm.OLS(red_y, red_x_with_cnst)\n",
    "red_results = red_model.fit()\n",
    "\n",
    "print(\"Red Wine\")\n",
    "red_results.summary()"
   ]
  },
  {
   "cell_type": "markdown",
   "metadata": {},
   "source": [
    "&#9989; **Question 3.3.White (2 points)**: Using the `OLS` method in `statsmodels`, perform a linear regression to predict the **fixed acidity** of white wine samples using **citric acid** as the predictor, and display the results summary."
   ]
  },
  {
   "cell_type": "code",
   "execution_count": 10,
   "metadata": {},
   "outputs": [
    {
     "name": "stdout",
     "output_type": "stream",
     "text": [
      "White Wine\n"
     ]
    },
    {
     "data": {
      "text/html": [
       "<table class=\"simpletable\">\n",
       "<caption>OLS Regression Results</caption>\n",
       "<tr>\n",
       "  <th>Dep. Variable:</th>       <td>citric acid</td>   <th>  R-squared:         </th> <td>   0.084</td>\n",
       "</tr>\n",
       "<tr>\n",
       "  <th>Model:</th>                   <td>OLS</td>       <th>  Adj. R-squared:    </th> <td>   0.083</td>\n",
       "</tr>\n",
       "<tr>\n",
       "  <th>Method:</th>             <td>Least Squares</td>  <th>  F-statistic:       </th> <td>   446.8</td>\n",
       "</tr>\n",
       "<tr>\n",
       "  <th>Date:</th>             <td>Wed, 13 Nov 2024</td> <th>  Prob (F-statistic):</th> <td>5.62e-95</td>\n",
       "</tr>\n",
       "<tr>\n",
       "  <th>Time:</th>                 <td>11:32:51</td>     <th>  Log-Likelihood:    </th> <td>  3608.0</td>\n",
       "</tr>\n",
       "<tr>\n",
       "  <th>No. Observations:</th>      <td>  4898</td>      <th>  AIC:               </th> <td>  -7212.</td>\n",
       "</tr>\n",
       "<tr>\n",
       "  <th>Df Residuals:</th>          <td>  4896</td>      <th>  BIC:               </th> <td>  -7199.</td>\n",
       "</tr>\n",
       "<tr>\n",
       "  <th>Df Model:</th>              <td>     1</td>      <th>                     </th>     <td> </td>   \n",
       "</tr>\n",
       "<tr>\n",
       "  <th>Covariance Type:</th>      <td>nonrobust</td>    <th>                     </th>     <td> </td>   \n",
       "</tr>\n",
       "</table>\n",
       "<table class=\"simpletable\">\n",
       "<tr>\n",
       "        <td></td>           <th>coef</th>     <th>std err</th>      <th>t</th>      <th>P>|t|</th>  <th>[0.025</th>    <th>0.975]</th>  \n",
       "</tr>\n",
       "<tr>\n",
       "  <th>const</th>         <td>    0.0499</td> <td>    0.014</td> <td>    3.683</td> <td> 0.000</td> <td>    0.023</td> <td>    0.076</td>\n",
       "</tr>\n",
       "<tr>\n",
       "  <th>fixed acidity</th> <td>    0.0415</td> <td>    0.002</td> <td>   21.137</td> <td> 0.000</td> <td>    0.038</td> <td>    0.045</td>\n",
       "</tr>\n",
       "</table>\n",
       "<table class=\"simpletable\">\n",
       "<tr>\n",
       "  <th>Omnibus:</th>       <td>1620.377</td> <th>  Durbin-Watson:     </th> <td>   1.503</td> \n",
       "</tr>\n",
       "<tr>\n",
       "  <th>Prob(Omnibus):</th>  <td> 0.000</td>  <th>  Jarque-Bera (JB):  </th> <td>10641.380</td>\n",
       "</tr>\n",
       "<tr>\n",
       "  <th>Skew:</th>           <td> 1.418</td>  <th>  Prob(JB):          </th> <td>    0.00</td> \n",
       "</tr>\n",
       "<tr>\n",
       "  <th>Kurtosis:</th>       <td> 9.640</td>  <th>  Cond. No.          </th> <td>    57.7</td> \n",
       "</tr>\n",
       "</table><br/><br/>Notes:<br/>[1] Standard Errors assume that the covariance matrix of the errors is correctly specified."
      ],
      "text/latex": [
       "\\begin{center}\n",
       "\\begin{tabular}{lclc}\n",
       "\\toprule\n",
       "\\textbf{Dep. Variable:}    &   citric acid    & \\textbf{  R-squared:         } &     0.084   \\\\\n",
       "\\textbf{Model:}            &       OLS        & \\textbf{  Adj. R-squared:    } &     0.083   \\\\\n",
       "\\textbf{Method:}           &  Least Squares   & \\textbf{  F-statistic:       } &     446.8   \\\\\n",
       "\\textbf{Date:}             & Wed, 13 Nov 2024 & \\textbf{  Prob (F-statistic):} &  5.62e-95   \\\\\n",
       "\\textbf{Time:}             &     11:32:51     & \\textbf{  Log-Likelihood:    } &    3608.0   \\\\\n",
       "\\textbf{No. Observations:} &        4898      & \\textbf{  AIC:               } &    -7212.   \\\\\n",
       "\\textbf{Df Residuals:}     &        4896      & \\textbf{  BIC:               } &    -7199.   \\\\\n",
       "\\textbf{Df Model:}         &           1      & \\textbf{                     } &             \\\\\n",
       "\\textbf{Covariance Type:}  &    nonrobust     & \\textbf{                     } &             \\\\\n",
       "\\bottomrule\n",
       "\\end{tabular}\n",
       "\\begin{tabular}{lcccccc}\n",
       "                       & \\textbf{coef} & \\textbf{std err} & \\textbf{t} & \\textbf{P$> |$t$|$} & \\textbf{[0.025} & \\textbf{0.975]}  \\\\\n",
       "\\midrule\n",
       "\\textbf{const}         &       0.0499  &        0.014     &     3.683  &         0.000        &        0.023    &        0.076     \\\\\n",
       "\\textbf{fixed acidity} &       0.0415  &        0.002     &    21.137  &         0.000        &        0.038    &        0.045     \\\\\n",
       "\\bottomrule\n",
       "\\end{tabular}\n",
       "\\begin{tabular}{lclc}\n",
       "\\textbf{Omnibus:}       & 1620.377 & \\textbf{  Durbin-Watson:     } &     1.503  \\\\\n",
       "\\textbf{Prob(Omnibus):} &   0.000  & \\textbf{  Jarque-Bera (JB):  } & 10641.380  \\\\\n",
       "\\textbf{Skew:}          &   1.418  & \\textbf{  Prob(JB):          } &      0.00  \\\\\n",
       "\\textbf{Kurtosis:}      &   9.640  & \\textbf{  Cond. No.          } &      57.7  \\\\\n",
       "\\bottomrule\n",
       "\\end{tabular}\n",
       "%\\caption{OLS Regression Results}\n",
       "\\end{center}\n",
       "\n",
       "Notes: \\newline\n",
       " [1] Standard Errors assume that the covariance matrix of the errors is correctly specified."
      ],
      "text/plain": [
       "<class 'statsmodels.iolib.summary.Summary'>\n",
       "\"\"\"\n",
       "                            OLS Regression Results                            \n",
       "==============================================================================\n",
       "Dep. Variable:            citric acid   R-squared:                       0.084\n",
       "Model:                            OLS   Adj. R-squared:                  0.083\n",
       "Method:                 Least Squares   F-statistic:                     446.8\n",
       "Date:                Wed, 13 Nov 2024   Prob (F-statistic):           5.62e-95\n",
       "Time:                        11:32:51   Log-Likelihood:                 3608.0\n",
       "No. Observations:                4898   AIC:                            -7212.\n",
       "Df Residuals:                    4896   BIC:                            -7199.\n",
       "Df Model:                           1                                         \n",
       "Covariance Type:            nonrobust                                         \n",
       "=================================================================================\n",
       "                    coef    std err          t      P>|t|      [0.025      0.975]\n",
       "---------------------------------------------------------------------------------\n",
       "const             0.0499      0.014      3.683      0.000       0.023       0.076\n",
       "fixed acidity     0.0415      0.002     21.137      0.000       0.038       0.045\n",
       "==============================================================================\n",
       "Omnibus:                     1620.377   Durbin-Watson:                   1.503\n",
       "Prob(Omnibus):                  0.000   Jarque-Bera (JB):            10641.380\n",
       "Skew:                           1.418   Prob(JB):                         0.00\n",
       "Kurtosis:                       9.640   Cond. No.                         57.7\n",
       "==============================================================================\n",
       "\n",
       "Notes:\n",
       "[1] Standard Errors assume that the covariance matrix of the errors is correctly specified.\n",
       "\"\"\""
      ]
     },
     "execution_count": 10,
     "metadata": {},
     "output_type": "execute_result"
    }
   ],
   "source": [
    "white_x = white[\"fixed acidity\"]\n",
    "white_y = white[\"citric acid\"]\n",
    "white_x_with_cnst = sm.add_constant(white_x)\n",
    "white_model = sm.OLS(white_y, white_x_with_cnst)\n",
    "white_results = white_model.fit()\n",
    "\n",
    "print(\"White Wine\")\n",
    "white_results.summary()"
   ]
  },
  {
   "cell_type": "markdown",
   "metadata": {},
   "source": [
    "&#9989; **Question 3.4 (5 points)**: Answer the following questions:\n",
    "\n",
    "1. For both red and white wines, what is the equation of the best-fit linear relationship between **fixed acidity** and **citric acid**?\n",
    "\n",
    "2. For both red and white wines, as citric acid content increases, does the fixed acidity increase or decrease?\n",
    "\n",
    "3. Based on the \\( p \\)-values for citric acid, is the relationship between fixed acidity and citric acid content statistically significant for each wine type?"
   ]
  },
  {
   "cell_type": "markdown",
   "metadata": {},
   "source": [
    "<font size=+3>&#9998;</font> Put your answers here:\n",
    "\n"
   ]
  },
  {
   "cell_type": "markdown",
   "metadata": {},
   "source": [
    "&#9989; **Question 3.5 (6 points)**: Assuming you did everything correctly, the relationship between a wine's **fixed acidity** and **citric acid** content may differ when you split the data by wine type (red or white). This might seem confusing at first. Part of the reason for this is because we skipped a very important step when working with unfamiliar data: **visualizing the data**.\n",
    "\n",
    "**Do this**: Make a scatterplot showing **fixed acidity** vs. **citric acid** for the wine dataset. Color-code the points so that red and white wines are in different colors. Then, display the best fit line for each type of wine in the same color as the points, and also display the best fit line for all wines combined in a different color. Don’t forget to label your axes. When you’re done, your plot should contain two colors of points and three lines (two lines should match the colors of the two wine types, and one line for the combined data in a different color).\n",
    "\n",
    "**Hint**: We've included a function to help you plot a line. Feel free to use it, or not."
   ]
  },
  {
   "cell_type": "code",
   "execution_count": 11,
   "metadata": {},
   "outputs": [],
   "source": [
    "white_intersect, white_slope = white_results.params\n",
    "red_intersect, red_slope = red_results.params\n",
    "intersect, slope = results.params"
   ]
  },
  {
   "cell_type": "code",
   "execution_count": 12,
   "metadata": {},
   "outputs": [
    {
     "data": {
      "text/plain": [
       "(0.0, 1.25)"
      ]
     },
     "execution_count": 12,
     "metadata": {},
     "output_type": "execute_result"
    },
    {
     "data": {
      "image/png": "[encoded data removed]",
      "text/plain": [
       "<Figure size 640x480 with 1 Axes>"
      ]
     },
     "metadata": {},
     "output_type": "display_data"
    }
   ],
   "source": [
    "import matplotlib.pyplot as plt\n",
    "import numpy as np\n",
    "def plot_line(slope, intercept, xmin, xmax, color):\n",
    "    xline = np.array([xmin,xmax])\n",
    "    yline = slope*xline+intercept\n",
    "    plt.plot(xline,yline,color)\n",
    "\n",
    "# Put your code here\n",
    "plt.scatter(white_x, white_y, c='#aaa78f',s=10, label=\"white\")\n",
    "plt.scatter(red_x, red_y, c='#722f37',s=10, label=\"red\")\n",
    "\n",
    "plot_line(white_slope, white_intersect, 4, 16, 'white')\n",
    "plot_line(red_slope, red_intersect, 4, 16, 'red')\n",
    "plot_line(slope, intersect, 4, 16, 'black')\n",
    "\n",
    "sns.set_style(\"darkgrid\")\n",
    "plt.xlabel(\"Fixed Acidity\")\n",
    "plt.ylabel(\"Citric Acid\")\n",
    "plt.title(\"Fixed Acidity vs Citric Acid for red and white wine\")\n",
    "plt.legend()\n",
    "plt.ylim(0,1.25)"
   ]
  },
  {
   "cell_type": "markdown",
   "metadata": {},
   "source": [
    "---\n",
    "### &#128721; STOP\n",
    "**Pause to commit your changes to your Git repository!**\n",
    "\n",
    "Take a moment to save your notebook, commit the changes to your local `git` repository using the commit message \"Part 3 complete\", and push the changes to GitHub.\n",
    "\n",
    "---"
   ]
  },
  {
   "cell_type": "markdown",
   "metadata": {},
   "source": [
    "## Part 4: Multiple Regression (16 points)\n",
    "\n",
    "In this part, we'll use multiple features to predict the **quality** of **red** wine samples. Specifically, we’ll explore how a combination of chemical properties—such as **volatile acidity**, **citric acid**, **alcohol**, and others—can be used to estimate the overall **quality** rating of red wines."
   ]
  },
  {
   "cell_type": "markdown",
   "metadata": {},
   "source": [
    "&#9989; **Question 4.1 (3 points)**: Using the `OLS` method in `statsmodels`, perform a multivariable linear regression to predict the **quality** of wine based on **volatile acidity**, **citric acid**, and **alcohol content**. Be sure to use the `add_constant()` method to ensure `OLS` includes a constant term in the model. As before, make sure to **display a summary of your results**."
   ]
  },
  {
   "cell_type": "code",
   "execution_count": 13,
   "metadata": {},
   "outputs": [],
   "source": [
    "# Put your code here\n",
    "multi_x = wine[[\"volatile acidity\",\"citric acid\",\"alcohol\"]]\n",
    "multi_y = wine[\"quality\"]\n",
    "multi_x_with_cnst = sm.add_constant(multi_x)\n",
    "multi_model = sm.OLS(multi_y, multi_x_with_cnst)\n",
    "multi_results = multi_model.fit()"
   ]
  },
  {
   "cell_type": "code",
   "execution_count": 14,
   "metadata": {},
   "outputs": [
    {
     "data": {
      "text/html": [
       "<table class=\"simpletable\">\n",
       "<caption>OLS Regression Results</caption>\n",
       "<tr>\n",
       "  <th>Dep. Variable:</th>         <td>quality</td>     <th>  R-squared:         </th> <td>   0.260</td> \n",
       "</tr>\n",
       "<tr>\n",
       "  <th>Model:</th>                   <td>OLS</td>       <th>  Adj. R-squared:    </th> <td>   0.259</td> \n",
       "</tr>\n",
       "<tr>\n",
       "  <th>Method:</th>             <td>Least Squares</td>  <th>  F-statistic:       </th> <td>   758.5</td> \n",
       "</tr>\n",
       "<tr>\n",
       "  <th>Date:</th>             <td>Wed, 13 Nov 2024</td> <th>  Prob (F-statistic):</th>  <td>  0.00</td>  \n",
       "</tr>\n",
       "<tr>\n",
       "  <th>Time:</th>                 <td>11:32:51</td>     <th>  Log-Likelihood:    </th> <td> -7361.8</td> \n",
       "</tr>\n",
       "<tr>\n",
       "  <th>No. Observations:</th>      <td>  6497</td>      <th>  AIC:               </th> <td>1.473e+04</td>\n",
       "</tr>\n",
       "<tr>\n",
       "  <th>Df Residuals:</th>          <td>  6493</td>      <th>  BIC:               </th> <td>1.476e+04</td>\n",
       "</tr>\n",
       "<tr>\n",
       "  <th>Df Model:</th>              <td>     3</td>      <th>                     </th>     <td> </td>    \n",
       "</tr>\n",
       "<tr>\n",
       "  <th>Covariance Type:</th>      <td>nonrobust</td>    <th>                     </th>     <td> </td>    \n",
       "</tr>\n",
       "</table>\n",
       "<table class=\"simpletable\">\n",
       "<tr>\n",
       "          <td></td>            <th>coef</th>     <th>std err</th>      <th>t</th>      <th>P>|t|</th>  <th>[0.025</th>    <th>0.975]</th>  \n",
       "</tr>\n",
       "<tr>\n",
       "  <th>const</th>            <td>    2.9401</td> <td>    0.091</td> <td>   32.174</td> <td> 0.000</td> <td>    2.761</td> <td>    3.119</td>\n",
       "</tr>\n",
       "<tr>\n",
       "  <th>volatile acidity</th> <td>   -1.3322</td> <td>    0.061</td> <td>  -21.752</td> <td> 0.000</td> <td>   -1.452</td> <td>   -1.212</td>\n",
       "</tr>\n",
       "<tr>\n",
       "  <th>citric acid</th>      <td>   -0.0291</td> <td>    0.069</td> <td>   -0.419</td> <td> 0.675</td> <td>   -0.165</td> <td>    0.107</td>\n",
       "</tr>\n",
       "<tr>\n",
       "  <th>alcohol</th>          <td>    0.3184</td> <td>    0.008</td> <td>   40.673</td> <td> 0.000</td> <td>    0.303</td> <td>    0.334</td>\n",
       "</tr>\n",
       "</table>\n",
       "<table class=\"simpletable\">\n",
       "<tr>\n",
       "  <th>Omnibus:</th>       <td>113.288</td> <th>  Durbin-Watson:     </th> <td>   1.645</td>\n",
       "</tr>\n",
       "<tr>\n",
       "  <th>Prob(Omnibus):</th> <td> 0.000</td>  <th>  Jarque-Bera (JB):  </th> <td> 229.581</td>\n",
       "</tr>\n",
       "<tr>\n",
       "  <th>Skew:</th>          <td> 0.006</td>  <th>  Prob(JB):          </th> <td>1.40e-50</td>\n",
       "</tr>\n",
       "<tr>\n",
       "  <th>Kurtosis:</th>      <td> 3.921</td>  <th>  Cond. No.          </th> <td>    116.</td>\n",
       "</tr>\n",
       "</table><br/><br/>Notes:<br/>[1] Standard Errors assume that the covariance matrix of the errors is correctly specified."
      ],
      "text/latex": [
       "\\begin{center}\n",
       "\\begin{tabular}{lclc}\n",
       "\\toprule\n",
       "\\textbf{Dep. Variable:}    &     quality      & \\textbf{  R-squared:         } &     0.260   \\\\\n",
       "\\textbf{Model:}            &       OLS        & \\textbf{  Adj. R-squared:    } &     0.259   \\\\\n",
       "\\textbf{Method:}           &  Least Squares   & \\textbf{  F-statistic:       } &     758.5   \\\\\n",
       "\\textbf{Date:}             & Wed, 13 Nov 2024 & \\textbf{  Prob (F-statistic):} &     0.00    \\\\\n",
       "\\textbf{Time:}             &     11:32:51     & \\textbf{  Log-Likelihood:    } &   -7361.8   \\\\\n",
       "\\textbf{No. Observations:} &        6497      & \\textbf{  AIC:               } & 1.473e+04   \\\\\n",
       "\\textbf{Df Residuals:}     &        6493      & \\textbf{  BIC:               } & 1.476e+04   \\\\\n",
       "\\textbf{Df Model:}         &           3      & \\textbf{                     } &             \\\\\n",
       "\\textbf{Covariance Type:}  &    nonrobust     & \\textbf{                     } &             \\\\\n",
       "\\bottomrule\n",
       "\\end{tabular}\n",
       "\\begin{tabular}{lcccccc}\n",
       "                          & \\textbf{coef} & \\textbf{std err} & \\textbf{t} & \\textbf{P$> |$t$|$} & \\textbf{[0.025} & \\textbf{0.975]}  \\\\\n",
       "\\midrule\n",
       "\\textbf{const}            &       2.9401  &        0.091     &    32.174  &         0.000        &        2.761    &        3.119     \\\\\n",
       "\\textbf{volatile acidity} &      -1.3322  &        0.061     &   -21.752  &         0.000        &       -1.452    &       -1.212     \\\\\n",
       "\\textbf{citric acid}      &      -0.0291  &        0.069     &    -0.419  &         0.675        &       -0.165    &        0.107     \\\\\n",
       "\\textbf{alcohol}          &       0.3184  &        0.008     &    40.673  &         0.000        &        0.303    &        0.334     \\\\\n",
       "\\bottomrule\n",
       "\\end{tabular}\n",
       "\\begin{tabular}{lclc}\n",
       "\\textbf{Omnibus:}       & 113.288 & \\textbf{  Durbin-Watson:     } &    1.645  \\\\\n",
       "\\textbf{Prob(Omnibus):} &   0.000 & \\textbf{  Jarque-Bera (JB):  } &  229.581  \\\\\n",
       "\\textbf{Skew:}          &   0.006 & \\textbf{  Prob(JB):          } & 1.40e-50  \\\\\n",
       "\\textbf{Kurtosis:}      &   3.921 & \\textbf{  Cond. No.          } &     116.  \\\\\n",
       "\\bottomrule\n",
       "\\end{tabular}\n",
       "%\\caption{OLS Regression Results}\n",
       "\\end{center}\n",
       "\n",
       "Notes: \\newline\n",
       " [1] Standard Errors assume that the covariance matrix of the errors is correctly specified."
      ],
      "text/plain": [
       "<class 'statsmodels.iolib.summary.Summary'>\n",
       "\"\"\"\n",
       "                            OLS Regression Results                            \n",
       "==============================================================================\n",
       "Dep. Variable:                quality   R-squared:                       0.260\n",
       "Model:                            OLS   Adj. R-squared:                  0.259\n",
       "Method:                 Least Squares   F-statistic:                     758.5\n",
       "Date:                Wed, 13 Nov 2024   Prob (F-statistic):               0.00\n",
       "Time:                        11:32:51   Log-Likelihood:                -7361.8\n",
       "No. Observations:                6497   AIC:                         1.473e+04\n",
       "Df Residuals:                    6493   BIC:                         1.476e+04\n",
       "Df Model:                           3                                         \n",
       "Covariance Type:            nonrobust                                         \n",
       "====================================================================================\n",
       "                       coef    std err          t      P>|t|      [0.025      0.975]\n",
       "------------------------------------------------------------------------------------\n",
       "const                2.9401      0.091     32.174      0.000       2.761       3.119\n",
       "volatile acidity    -1.3322      0.061    -21.752      0.000      -1.452      -1.212\n",
       "citric acid         -0.0291      0.069     -0.419      0.675      -0.165       0.107\n",
       "alcohol              0.3184      0.008     40.673      0.000       0.303       0.334\n",
       "==============================================================================\n",
       "Omnibus:                      113.288   Durbin-Watson:                   1.645\n",
       "Prob(Omnibus):                  0.000   Jarque-Bera (JB):              229.581\n",
       "Skew:                           0.006   Prob(JB):                     1.40e-50\n",
       "Kurtosis:                       3.921   Cond. No.                         116.\n",
       "==============================================================================\n",
       "\n",
       "Notes:\n",
       "[1] Standard Errors assume that the covariance matrix of the errors is correctly specified.\n",
       "\"\"\""
      ]
     },
     "execution_count": 14,
     "metadata": {},
     "output_type": "execute_result"
    }
   ],
   "source": [
    "multi_results.summary()"
   ]
  },
  {
   "cell_type": "code",
   "execution_count": 15,
   "metadata": {},
   "outputs": [
    {
     "data": {
      "text/plain": [
       "0    5.422985\n",
       "dtype: float64"
      ]
     },
     "execution_count": 15,
     "metadata": {},
     "output_type": "execute_result"
    }
   ],
   "source": [
    "test_data = pd.DataFrame({'const': 1, 'volatile acidity': [0.52], 'citric acid': [0.27], 'alcohol': [10.0]})\n",
    "\n",
    "multi_results.predict(test_data)"
   ]
  },
  {
   "cell_type": "markdown",
   "metadata": {},
   "source": [
    "&#9989; **Question 4.2 (4 points)**: Answer the following questions:\n",
    "\n",
    "1. Suppose a red wine sample has a volatile acidity of 0.52, citric acid content of 0.27, and alcohol of 10.0. What does your linear model predict for the wine's quality rating? Explain how you arrived at your answer.\n",
    "\n",
    "2. For each of the features (volatile acidity, citric acid, and residual sugar), specify if it is statistically significant in the model. Briefly justify your answers."
   ]
  },
  {
   "cell_type": "markdown",
   "metadata": {},
   "source": [
    "**Answers:** \n",
    "\n",
    "1. Using model.predict on a dataframe of this test data, the model tells me the quality would be 5.42 at those values\n",
    "2. For volatile acidity and alcohol the P value is 0, which would indicate it as statistically significant, but citric acid having a P value of 0.675, which is above 0.5 indicates it is not"
   ]
  },
  {
   "cell_type": "markdown",
   "metadata": {},
   "source": [
    "&#9989;  **Question 4.3 (3 points)**: Perform the same multivariable linear regression again, but this time check for chemicals and check if that improves the quality determination. Display the summary of these results."
   ]
  },
  {
   "cell_type": "code",
   "execution_count": 16,
   "metadata": {},
   "outputs": [
    {
     "data": {
      "text/html": [
       "<table class=\"simpletable\">\n",
       "<caption>OLS Regression Results</caption>\n",
       "<tr>\n",
       "  <th>Dep. Variable:</th>         <td>quality</td>     <th>  R-squared:         </th> <td>   0.078</td> \n",
       "</tr>\n",
       "<tr>\n",
       "  <th>Model:</th>                   <td>OLS</td>       <th>  Adj. R-squared:    </th> <td>   0.078</td> \n",
       "</tr>\n",
       "<tr>\n",
       "  <th>Method:</th>             <td>Least Squares</td>  <th>  F-statistic:       </th> <td>   137.9</td> \n",
       "</tr>\n",
       "<tr>\n",
       "  <th>Date:</th>             <td>Wed, 13 Nov 2024</td> <th>  Prob (F-statistic):</th> <td>2.90e-113</td>\n",
       "</tr>\n",
       "<tr>\n",
       "  <th>Time:</th>                 <td>11:32:51</td>     <th>  Log-Likelihood:    </th> <td> -8072.9</td> \n",
       "</tr>\n",
       "<tr>\n",
       "  <th>No. Observations:</th>      <td>  6497</td>      <th>  AIC:               </th> <td>1.616e+04</td>\n",
       "</tr>\n",
       "<tr>\n",
       "  <th>Df Residuals:</th>          <td>  6492</td>      <th>  BIC:               </th> <td>1.619e+04</td>\n",
       "</tr>\n",
       "<tr>\n",
       "  <th>Df Model:</th>              <td>     4</td>      <th>                     </th>     <td> </td>    \n",
       "</tr>\n",
       "<tr>\n",
       "  <th>Covariance Type:</th>      <td>nonrobust</td>    <th>                     </th>     <td> </td>    \n",
       "</tr>\n",
       "</table>\n",
       "<table class=\"simpletable\">\n",
       "<tr>\n",
       "            <td></td>              <th>coef</th>     <th>std err</th>      <th>t</th>      <th>P>|t|</th>  <th>[0.025</th>    <th>0.975]</th>  \n",
       "</tr>\n",
       "<tr>\n",
       "  <th>const</th>                <td>    5.9342</td> <td>    0.051</td> <td>  115.309</td> <td> 0.000</td> <td>    5.833</td> <td>    6.035</td>\n",
       "</tr>\n",
       "<tr>\n",
       "  <th>chlorides</th>            <td>   -6.8178</td> <td>    0.330</td> <td>  -20.685</td> <td> 0.000</td> <td>   -7.464</td> <td>   -6.172</td>\n",
       "</tr>\n",
       "<tr>\n",
       "  <th>free sulfur dioxide</th>  <td>    0.0088</td> <td>    0.001</td> <td>   10.394</td> <td> 0.000</td> <td>    0.007</td> <td>    0.010</td>\n",
       "</tr>\n",
       "<tr>\n",
       "  <th>total sulfur dioxide</th> <td>   -0.0033</td> <td>    0.000</td> <td>  -12.014</td> <td> 0.000</td> <td>   -0.004</td> <td>   -0.003</td>\n",
       "</tr>\n",
       "<tr>\n",
       "  <th>sulphates</th>            <td>    0.7135</td> <td>    0.078</td> <td>    9.205</td> <td> 0.000</td> <td>    0.562</td> <td>    0.865</td>\n",
       "</tr>\n",
       "</table>\n",
       "<table class=\"simpletable\">\n",
       "<tr>\n",
       "  <th>Omnibus:</th>       <td>66.012</td> <th>  Durbin-Watson:     </th> <td>   1.658</td>\n",
       "</tr>\n",
       "<tr>\n",
       "  <th>Prob(Omnibus):</th> <td> 0.000</td> <th>  Jarque-Bera (JB):  </th> <td>  85.338</td>\n",
       "</tr>\n",
       "<tr>\n",
       "  <th>Skew:</th>          <td> 0.155</td> <th>  Prob(JB):          </th> <td>2.95e-19</td>\n",
       "</tr>\n",
       "<tr>\n",
       "  <th>Kurtosis:</th>      <td> 3.468</td> <th>  Cond. No.          </th> <td>4.23e+03</td>\n",
       "</tr>\n",
       "</table><br/><br/>Notes:<br/>[1] Standard Errors assume that the covariance matrix of the errors is correctly specified.<br/>[2] The condition number is large, 4.23e+03. This might indicate that there are<br/>strong multicollinearity or other numerical problems."
      ],
      "text/latex": [
       "\\begin{center}\n",
       "\\begin{tabular}{lclc}\n",
       "\\toprule\n",
       "\\textbf{Dep. Variable:}       &     quality      & \\textbf{  R-squared:         } &     0.078   \\\\\n",
       "\\textbf{Model:}               &       OLS        & \\textbf{  Adj. R-squared:    } &     0.078   \\\\\n",
       "\\textbf{Method:}              &  Least Squares   & \\textbf{  F-statistic:       } &     137.9   \\\\\n",
       "\\textbf{Date:}                & Wed, 13 Nov 2024 & \\textbf{  Prob (F-statistic):} & 2.90e-113   \\\\\n",
       "\\textbf{Time:}                &     11:32:51     & \\textbf{  Log-Likelihood:    } &   -8072.9   \\\\\n",
       "\\textbf{No. Observations:}    &        6497      & \\textbf{  AIC:               } & 1.616e+04   \\\\\n",
       "\\textbf{Df Residuals:}        &        6492      & \\textbf{  BIC:               } & 1.619e+04   \\\\\n",
       "\\textbf{Df Model:}            &           4      & \\textbf{                     } &             \\\\\n",
       "\\textbf{Covariance Type:}     &    nonrobust     & \\textbf{                     } &             \\\\\n",
       "\\bottomrule\n",
       "\\end{tabular}\n",
       "\\begin{tabular}{lcccccc}\n",
       "                              & \\textbf{coef} & \\textbf{std err} & \\textbf{t} & \\textbf{P$> |$t$|$} & \\textbf{[0.025} & \\textbf{0.975]}  \\\\\n",
       "\\midrule\n",
       "\\textbf{const}                &       5.9342  &        0.051     &   115.309  &         0.000        &        5.833    &        6.035     \\\\\n",
       "\\textbf{chlorides}            &      -6.8178  &        0.330     &   -20.685  &         0.000        &       -7.464    &       -6.172     \\\\\n",
       "\\textbf{free sulfur dioxide}  &       0.0088  &        0.001     &    10.394  &         0.000        &        0.007    &        0.010     \\\\\n",
       "\\textbf{total sulfur dioxide} &      -0.0033  &        0.000     &   -12.014  &         0.000        &       -0.004    &       -0.003     \\\\\n",
       "\\textbf{sulphates}            &       0.7135  &        0.078     &     9.205  &         0.000        &        0.562    &        0.865     \\\\\n",
       "\\bottomrule\n",
       "\\end{tabular}\n",
       "\\begin{tabular}{lclc}\n",
       "\\textbf{Omnibus:}       & 66.012 & \\textbf{  Durbin-Watson:     } &    1.658  \\\\\n",
       "\\textbf{Prob(Omnibus):} &  0.000 & \\textbf{  Jarque-Bera (JB):  } &   85.338  \\\\\n",
       "\\textbf{Skew:}          &  0.155 & \\textbf{  Prob(JB):          } & 2.95e-19  \\\\\n",
       "\\textbf{Kurtosis:}      &  3.468 & \\textbf{  Cond. No.          } & 4.23e+03  \\\\\n",
       "\\bottomrule\n",
       "\\end{tabular}\n",
       "%\\caption{OLS Regression Results}\n",
       "\\end{center}\n",
       "\n",
       "Notes: \\newline\n",
       " [1] Standard Errors assume that the covariance matrix of the errors is correctly specified. \\newline\n",
       " [2] The condition number is large, 4.23e+03. This might indicate that there are \\newline\n",
       " strong multicollinearity or other numerical problems."
      ],
      "text/plain": [
       "<class 'statsmodels.iolib.summary.Summary'>\n",
       "\"\"\"\n",
       "                            OLS Regression Results                            \n",
       "==============================================================================\n",
       "Dep. Variable:                quality   R-squared:                       0.078\n",
       "Model:                            OLS   Adj. R-squared:                  0.078\n",
       "Method:                 Least Squares   F-statistic:                     137.9\n",
       "Date:                Wed, 13 Nov 2024   Prob (F-statistic):          2.90e-113\n",
       "Time:                        11:32:51   Log-Likelihood:                -8072.9\n",
       "No. Observations:                6497   AIC:                         1.616e+04\n",
       "Df Residuals:                    6492   BIC:                         1.619e+04\n",
       "Df Model:                           4                                         \n",
       "Covariance Type:            nonrobust                                         \n",
       "========================================================================================\n",
       "                           coef    std err          t      P>|t|      [0.025      0.975]\n",
       "----------------------------------------------------------------------------------------\n",
       "const                    5.9342      0.051    115.309      0.000       5.833       6.035\n",
       "chlorides               -6.8178      0.330    -20.685      0.000      -7.464      -6.172\n",
       "free sulfur dioxide      0.0088      0.001     10.394      0.000       0.007       0.010\n",
       "total sulfur dioxide    -0.0033      0.000    -12.014      0.000      -0.004      -0.003\n",
       "sulphates                0.7135      0.078      9.205      0.000       0.562       0.865\n",
       "==============================================================================\n",
       "Omnibus:                       66.012   Durbin-Watson:                   1.658\n",
       "Prob(Omnibus):                  0.000   Jarque-Bera (JB):               85.338\n",
       "Skew:                           0.155   Prob(JB):                     2.95e-19\n",
       "Kurtosis:                       3.468   Cond. No.                     4.23e+03\n",
       "==============================================================================\n",
       "\n",
       "Notes:\n",
       "[1] Standard Errors assume that the covariance matrix of the errors is correctly specified.\n",
       "[2] The condition number is large, 4.23e+03. This might indicate that there are\n",
       "strong multicollinearity or other numerical problems.\n",
       "\"\"\""
      ]
     },
     "execution_count": 16,
     "metadata": {},
     "output_type": "execute_result"
    }
   ],
   "source": [
    "# Put your code here\n",
    "# Put your code here\n",
    "multi_x = wine[[\"chlorides\",\"free sulfur dioxide\",\"total sulfur dioxide\", \"sulphates\"]]\n",
    "multi_y = wine[\"quality\"]\n",
    "multi_x_with_cnst = sm.add_constant(multi_x)\n",
    "multi_model = sm.OLS(multi_y, multi_x_with_cnst)\n",
    "multi_results = multi_model.fit()\n",
    "multi_results.summary()"
   ]
  },
  {
   "cell_type": "markdown",
   "metadata": {},
   "source": [
    "&#9989;  **Question 4.4 (4 points)**: Answer these questions: \n",
    "\n",
    "1. Qualitatively, how much better/worse is the reduced model compared to the original model? Briefly justify your answer.\n",
    "\n",
    "2. Explain in your own words why we might want to use a model with fewer features, even if it fits the data a bit worse than a model with more features."
   ]
  },
  {
   "cell_type": "markdown",
   "metadata": {},
   "source": [
    "**Answers:**\n",
    "1. The second model is worse, and we can tell based on the adjusted r-squared value. The first model has 0.260 and the second one has 0.078.\n",
    "2. Using less features can avoid fitting the data too closely to the point where the *trend* isn't being detected"
   ]
  },
  {
   "cell_type": "markdown",
   "metadata": {},
   "source": [
    "&#9989; **Question 4.5 (2 points)**: Suppose we wanted to use the **color** of a wine (red or white) as a feature to predict its quality. Will simply including the `color` column in the second argument to `OLS()` work? If not, why, and what could we do to fix it?"
   ]
  },
  {
   "cell_type": "markdown",
   "metadata": {},
   "source": [
    "**Answer.** If there was a color column in ```wine``` and it contained values either *red* or *white* that could not just be used in a regression model, it would have to be first translated to a numeric binary system, like red=0 and white=1"
   ]
  },
  {
   "cell_type": "markdown",
   "metadata": {},
   "source": [
    "---\n",
    "### &#128721; STOP\n",
    "**Pause to commit your changes to your Git repository!**\n",
    "\n",
    "Take a moment to save your notebook, commit the changes to your local `git` repository using the commit message \"Part 4 complete\", and push the changes to GitHub.\n",
    "\n",
    "---"
   ]
  },
  {
   "cell_type": "markdown",
   "metadata": {},
   "source": [
    "## Part 5: Logistic Regression (16 points)\n",
    "\n",
    "In this part, we'd like to use logistic regression to classify whether a wine is **red** or **white** based on its chemical properties. Logistic regression, as we've learned in class, is commonly used for binary classification. Here, we’ll use it to distinguish between the two wine types, aiming for high accuracy in prediction, as mistaking one for the other could lead to a poor wine pairing experience!"
   ]
  },
  {
   "cell_type": "markdown",
   "metadata": {},
   "source": [
    "&#9989; **Question 5.1 (4 points)**: Let's start by setting up a classifier to distinguish **red wines** from **white wines**.\n",
    "\n",
    "**Do This**: Add a new column called `color` to both the red and white wine DataFrames. For red wine samples, set `color` to 1, and for white wine samples, set `color` to 0. Then, use `pd.concat()` to combine the two DataFrames into one unified DataFrame.\n",
    "\n",
    "**Hint**: After creating the `color` column in each DataFrame, use `pd.concat([df_red, df_white])` to concatenate them into a single DataFrame.\n",
    "\n",
    "Finally, split the combined DataFrame into **features** and **labels**, where `features` consists of all columns except `color` and `quality`, and `labels` is the `color` column."
   ]
  },
  {
   "cell_type": "code",
   "execution_count": 19,
   "metadata": {},
   "outputs": [],
   "source": [
    "white['color'] = 0\n",
    "red['color'] = 1\n",
    "\n",
    "wine = pd.concat([red, white], ignore_index=True)\n",
    "\n",
    "features = wine.drop(['quality', 'color'], axis=1)  # Drop 'quality' and 'color' from features\n",
    "labels = wine['color']  # 'color' is the label\n",
    "\n",
    "train_features, test_features, train_labels, test_labels = train_test_split(features, labels, random_state=0)"
   ]
  },
  {
   "cell_type": "markdown",
   "metadata": {},
   "source": [
    "&#9989;  **Question 5.2 (4 points)**: Split your data into a training and testing set with a training set representing 75% of your data. For reproducibility, set the `random_state` argument to `0`. Print the shapes of the training features, the testing features, the training labels, and the testing labels to show you have the right number of entries in each of the four variables."
   ]
  },
  {
   "cell_type": "code",
   "execution_count": 21,
   "metadata": {},
   "outputs": [
    {
     "name": "stdout",
     "output_type": "stream",
     "text": [
      "(4872, 11)\n",
      "(1625, 11)\n",
      "(4872,)\n",
      "(1625,)\n"
     ]
    }
   ],
   "source": [
    "# Put your code here\n",
    "print(train_features.shape)\n",
    "print(test_features.shape)\n",
    "print(train_labels.shape)\n",
    "print(test_labels.shape)"
   ]
  },
  {
   "cell_type": "markdown",
   "metadata": {},
   "source": [
    "&#9989;  **Question 5.3 (4 points)**: Now, train a logistic regression model using your training features and training labels. **Display the summary**."
   ]
  },
  {
   "cell_type": "code",
   "execution_count": 22,
   "metadata": {},
   "outputs": [
    {
     "name": "stdout",
     "output_type": "stream",
     "text": [
      "Optimization terminated successfully.\n",
      "         Current function value: 0.051076\n",
      "         Iterations 10\n",
      "                           Logit Regression Results                           \n",
      "==============================================================================\n",
      "Dep. Variable:                  color   No. Observations:                 4872\n",
      "Model:                          Logit   Df Residuals:                     4861\n",
      "Method:                           MLE   Df Model:                           10\n",
      "Date:                Wed, 13 Nov 2024   Pseudo R-squ.:                  0.9088\n",
      "Time:                        11:33:52   Log-Likelihood:                -248.84\n",
      "converged:                       True   LL-Null:                       -2727.5\n",
      "Covariance Type:            nonrobust   LLR p-value:                     0.000\n",
      "========================================================================================\n",
      "                           coef    std err          z      P>|z|      [0.025      0.975]\n",
      "----------------------------------------------------------------------------------------\n",
      "fixed acidity            1.4932      0.152      9.805      0.000       1.195       1.792\n",
      "volatile acidity        10.7942      0.905     11.931      0.000       9.021      12.567\n",
      "citric acid             -1.2329      1.076     -1.146      0.252      -3.342       0.876\n",
      "residual sugar          -0.0301      0.051     -0.592      0.554      -0.130       0.070\n",
      "chlorides               35.3144      4.083      8.648      0.000      27.311      43.318\n",
      "free sulfur dioxide      0.0551      0.013      4.122      0.000       0.029       0.081\n",
      "total sulfur dioxide    -0.0631      0.005    -12.811      0.000      -0.073      -0.053\n",
      "density                -46.5912      4.359    -10.689      0.000     -55.134     -38.048\n",
      "pH                       9.6439      0.985      9.796      0.000       7.714      11.574\n",
      "sulphates                8.4992      0.954      8.908      0.000       6.629      10.369\n",
      "alcohol                 -0.3162      0.120     -2.630      0.009      -0.552      -0.081\n",
      "========================================================================================\n",
      "\n",
      "Possibly complete quasi-separation: A fraction 0.21 of observations can be\n",
      "perfectly predicted. This might indicate that there is complete\n",
      "quasi-separation. In this case some parameters will not be identified.\n"
     ]
    }
   ],
   "source": [
    "logit_model = sm.Logit(train_labels, train_features)  # Use train_labels and train_features\n",
    "result = logit_model.fit()\n",
    "print(result.summary())"
   ]
  },
  {
   "cell_type": "markdown",
   "metadata": {},
   "source": [
    "&#9989;  **Question 5.4 (4 points)**: Finally, test your logistic regression model using your testing features and testing labels. Display the fraction of testing data points that were correctly predicted. "
   ]
  },
  {
   "cell_type": "code",
   "execution_count": 38,
   "metadata": {},
   "outputs": [
    {
     "data": {
      "text/plain": [
       "5316    0.0\n",
       "5210    0.0\n",
       "3518    0.0\n",
       "1622    0.0\n",
       "2443    0.0\n",
       "       ... \n",
       "2152    0.0\n",
       "4019    0.0\n",
       "3732    0.0\n",
       "1315    1.0\n",
       "5701    0.0\n",
       "Length: 1625, dtype: float64"
      ]
     },
     "execution_count": 38,
     "metadata": {},
     "output_type": "execute_result"
    }
   ],
   "source": [
    "test_predictions_prob = result.predict(test_features)\n",
    "\n",
    "#accuracy = accuracy_score(test_labels, test_predictions_prob)"
   ]
  },
  {
   "cell_type": "markdown",
   "metadata": {},
   "source": [
    "---\n",
    "### &#128721; STOP\n",
    "**Pause to commit your changes to your Git repository!**\n",
    "\n",
    "Take a moment to save your notebook, commit the changes to your local `git` repository using the commit message \"Part 5 complete\", and push the changes to GitHub.\n",
    "\n",
    "---"
   ]
  },
  {
   "cell_type": "markdown",
   "metadata": {},
   "source": [
    "## Part 1. Continued\n",
    "\n",
    "Now that you've finished your new \"development\" on your 202 turn-in repo, you can merge your work back into your `main` branch.\n",
    "\n",
    "**&#9989; Do the following**:\n",
    "\n",
    "7. Switch back to your `main` branch. \n",
    "8. Merge your `hw03_branch` with your `main` branch. \n",
    "9. Finally, push the changes to GitHub."
   ]
  },
  {
   "cell_type": "markdown",
   "metadata": {},
   "source": [
    "## Congratulations, you're done!\n",
    "\n",
    "Submit this assignment by uploading it to the course Desire2Learn web page.  Go to the \"Homework Assignments\" folder, find the dropbox link for Homework 3, and upload it there."
   ]
  },
  {
   "cell_type": "markdown",
   "metadata": {},
   "source": []
  },
  {
   "cell_type": "markdown",
   "metadata": {},
   "source": [
    "&#169; Copyright 2024,  Department of Computational Mathematics, Science and Engineering at Michigan State University"
   ]
  },
  {
   "cell_type": "markdown",
   "metadata": {},
   "source": []
  }
 ],
 "metadata": {
  "kernelspec": {
   "display_name": "Python 3.11 (default)",
   "language": "python",
   "name": "python3"
  },
  "language_info": {
   "codemirror_mode": {
    "name": "ipython",
    "version": 3
   },
   "file_extension": ".py",
   "mimetype": "text/x-python",
   "name": "python",
   "nbconvert_exporter": "python",
   "pygments_lexer": "ipython3",
   "version": "3.11.9"
  },
  "toc": {
   "base_numbering": 1,
   "nav_menu": {},
   "number_sections": true,
   "sideBar": true,
   "skip_h1_title": false,
   "title_cell": "Table of Contents",
   "title_sidebar": "Contents",
   "toc_cell": false,
   "toc_position": {},
   "toc_section_display": true,
   "toc_window_display": false
  }
 },
 "nbformat": 4,
 "nbformat_minor": 4
}
